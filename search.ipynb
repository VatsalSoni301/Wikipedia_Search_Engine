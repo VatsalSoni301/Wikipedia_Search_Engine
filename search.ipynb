{
 "cells": [
  {
   "cell_type": "code",
   "execution_count": null,
   "metadata": {},
   "outputs": [],
   "source": [
    "import re\n",
    "import os\n",
    "import sys\n",
    "import nltk\n",
    "import pickle\n",
    "import base64\n",
    "import time"
   ]
  },
  {
   "cell_type": "code",
   "execution_count": null,
   "metadata": {},
   "outputs": [],
   "source": [
    "stemmer = nltk.stem.SnowballStemmer('english')\n",
    "stop_words = {}\n",
    "stop_file = open(\"stop_words.txt\", \"r\")\n",
    "words = stop_file.read()\n",
    "words = words.split(\",\")\n",
    "for word in words:\n",
    "    word = word.strip()\n",
    "    if word:\n",
    "        stop_words[word[1:-1]] = 1"
   ]
  },
  {
   "cell_type": "code",
   "execution_count": null,
   "metadata": {},
   "outputs": [],
   "source": [
    "fields = {}\n",
    "fields[\"t\"] = open(\"index/title.txt\",\"r\")\n",
    "fields[\"c\"] = open(\"index/category.txt\",\"r\")\n",
    "fields[\"i\"] = open(\"index/infobox.txt\",\"r\")\n",
    "fields[\"b\"] = open(\"index/body_text.txt\",\"r\")\n",
    "# print(fields)"
   ]
  },
  {
   "cell_type": "code",
   "execution_count": null,
   "metadata": {},
   "outputs": [],
   "source": [
    "words_position = pickle.load(open(\"index/word_position.pickle\", \"rb\"))\n",
    "title_position = pickle.load(open(\"index/title_doc_no.pickle\", \"rb\"))"
   ]
  },
  {
   "cell_type": "code",
   "execution_count": null,
   "metadata": {},
   "outputs": [],
   "source": [
    "while True:\n",
    "    query_result = []\n",
    "    query = input(\"> \")\n",
    "    if (query == \"quit\") :\n",
    "        break\n",
    "    start = time.time()\n",
    "    query = query.lower().strip()\n",
    "    if \":\" in query:\n",
    "        query_fields = query.split(\",\")\n",
    "        for queries in query_fields:\n",
    "            field,query = queries.split(\":\")\n",
    "            tmp_result = []\n",
    "            flag = 0\n",
    "            words = query.split(\" \")\n",
    "            for word in words:\n",
    "                word = stemmer.stem(word)\n",
    "                if word and word not in stop_words:\n",
    "                    if word in words_position and field in words_position[word]:\n",
    "                        docs = []\n",
    "                        pointer = words_position[word][field]\n",
    "                        fields[field].seek(pointer)\n",
    "                        s = fields[field].readline()[: -1]\n",
    "                        word , posting_list = s.split(\"-\")\n",
    "                        posting_list = posting_list.split(\",\")\n",
    "                        for doc in posting_list:\n",
    "                            docs.append(doc.split(\":\")[0])\n",
    "                        if flag == 0:\n",
    "                            tmp_result = docs\n",
    "                            flag = 1\n",
    "                        else:\n",
    "                            tmp_result = list(set(tmp_result) & set(docs))\n",
    "            for doc_id in tmp_result:\n",
    "                query_result.append(title_position[int(doc_id)])\n",
    "    else:\n",
    "        flag = 0\n",
    "        tmp_result = []\n",
    "        query_words = query.split(\" \")\n",
    "        for word in query_words:\n",
    "            word = stemmer.stem(word)\n",
    "            if word not in stop_words:\n",
    "                if word in words_position:\n",
    "                    docs = []\n",
    "                    for field in words_position[word].keys():\n",
    "                        pointer = words_position[word][field]\n",
    "                        fields[field].seek(pointer)\n",
    "                        s = fields[field].readline()[: -1]\n",
    "                        word , posting_list = s.split(\"-\")\n",
    "                        posting_list = posting_list.split(\",\")\n",
    "                        for doc in posting_list:\n",
    "                            docs.append(doc.split(\":\")[0])\n",
    "                    if flag == 0:\n",
    "                        tmp_result = docs\n",
    "                        flag = 1\n",
    "                    else:\n",
    "                        tmp_result = list(set(tmp_result) & set(docs))\n",
    "        for doc_id in tmp_result:\n",
    "            query_result.append(title_position[int(doc_id)])\n",
    "    \n",
    "    end = time.time()\n",
    "    print(\"Time Taken :- \",(end-start))\n",
    "    print(\"No of Results :- \",len(query_result))\n",
    "    if len(query_result) == 0:\n",
    "        query_result.append(\"No result found\")\n",
    "    for result in query_result:\n",
    "        print(result)\n",
    "                        "
   ]
  }
 ],
 "metadata": {
  "kernelspec": {
   "display_name": "Python 3",
   "language": "python",
   "name": "python3"
  },
  "language_info": {
   "codemirror_mode": {
    "name": "ipython",
    "version": 3
   },
   "file_extension": ".py",
   "mimetype": "text/x-python",
   "name": "python",
   "nbconvert_exporter": "python",
   "pygments_lexer": "ipython3",
   "version": "3.6.8"
  }
 },
 "nbformat": 4,
 "nbformat_minor": 2
}
